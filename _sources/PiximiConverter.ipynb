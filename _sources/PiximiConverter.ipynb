{
 "cells": [
  {
   "cell_type": "markdown",
   "id": "ce2d5772-9eda-4337-a1ad-73663badba29",
   "metadata": {},
   "source": [
    "# Example notebook - converting a Piximi classification model for use outside Piximi"
   ]
  },
  {
   "cell_type": "markdown",
   "id": "7db8e238-17f3-4ee1-8f3f-b27e4657267d",
   "metadata": {},
   "source": [
    "An obvious downside of running your analysis in your browser is that the amount of data you are running needs to all fit in your browser (for now!). You might therefore choose to train a Piximi classifier on a subset of your data, and then export the model to use elsewhere.\n",
    "\n",
    "The notebook below can be used to convert a Piximi model file to run in Tensorflow in Python. Happy classifying!"
   ]
  },
  {
   "cell_type": "markdown",
   "id": "5cd07d99-4c19-4302-a85e-3e97f9d97520",
   "metadata": {},
   "source": [
    "# Step by step walkthrough"
   ]
  },
  {
   "cell_type": "markdown",
   "id": "47102c8e-759a-4173-a91d-7772ab8c7158",
   "metadata": {},
   "source": [
    "## Change the parameters in the cell below"
   ]
  },
  {
   "cell_type": "code",
   "execution_count": null,
   "id": "9e5fdfd5-4773-4100-9368-111c6c7c52c5",
   "metadata": {},
   "outputs": [],
   "source": [
    "input_json_name = '../BBBC013NoCropYesRescale/SimpleCNN.json' # the name of the Piximi json file\n",
    "needs_conversion = False # Do you need to create a Python-compatible h5 file, or have you already done so?\n",
    "should_rescale = True # Should the file be min-max rescaled before inference? \n",
    "output_h5_name = '../BBBC013NoCropYesRescale/SimpleCNN.h5' # The name you want to use for the keras model file\n",
    "files_to_run = '../PiximiConvertUnRescaled2Chan/*.tiff' # A glob to pass in to find the files you want to run inference on\n",
    "return_named_list = True #If True, returns a list with class names rather than an array of classes. Requires setting class_labels below\n",
    "class_labels = ['CytoplasmicGFP','NoGFP','NuclearGFP'] # the class labels you used in Piximi, in order. Not used if return_name_list is False"
   ]
  },
  {
   "cell_type": "markdown",
   "id": "5e579848-9b7c-4c7f-b754-a2f02bab49c3",
   "metadata": {},
   "source": [
    "## Then simply run the rest of the cells"
   ]
  },
  {
   "cell_type": "code",
   "execution_count": null,
   "id": "d24cedec-7743-496c-bfbd-bff471004c72",
   "metadata": {},
   "outputs": [],
   "source": [
    "#!pip install tensorflow tensorflowjs skimage"
   ]
  },
  {
   "cell_type": "code",
   "execution_count": null,
   "id": "26283fe6-a965-49b8-b6c1-e3393f95f3a1",
   "metadata": {},
   "outputs": [],
   "source": [
    "import tensorflow as tf\n",
    "import skimage\n",
    "import numpy\n",
    "import glob"
   ]
  },
  {
   "cell_type": "code",
   "execution_count": null,
   "id": "a44debce-5a05-42de-9c29-5945863b538d",
   "metadata": {},
   "outputs": [],
   "source": [
    "if needs_conversion:\n",
    "    !tensorflowjs_converter \\\n",
    "        --input_format=tfjs_layers_model \\\n",
    "        --output_format=keras \\\n",
    "        {input_json_name} \\\n",
    "        {output_h5_name}"
   ]
  },
  {
   "cell_type": "code",
   "execution_count": null,
   "id": "9be075b5-04ec-4c43-82c1-be7974449cb3",
   "metadata": {},
   "outputs": [],
   "source": [
    "piximi_model=tf.keras.models.load_model(output_h5_name)"
   ]
  },
  {
   "cell_type": "code",
   "execution_count": null,
   "id": "5b7a9fdb-da2d-4d36-9f71-5d14b49ebeaf",
   "metadata": {},
   "outputs": [],
   "source": [
    "piximi_model.summary()"
   ]
  },
  {
   "cell_type": "markdown",
   "id": "6397b53d-2a08-46ea-8c5d-64154f9fb540",
   "metadata": {},
   "source": [
    "## If you're comfortable applying tensorflow models, that's it, you're done! If not, we've provided some convenience functions for you"
   ]
  },
  {
   "cell_type": "code",
   "execution_count": null,
   "id": "885cc7e8-f857-45a3-bcd3-dc710c7e1b5c",
   "metadata": {},
   "outputs": [],
   "source": [
    "def load_image(imname,reorder,rescale,inputdim):\n",
    "    im = skimage.util.img_as_float(skimage.io.imread(imname))\n",
    "    if reorder:\n",
    "        im = numpy.moveaxis(im,0,-1)\n",
    "    if rescale:\n",
    "        im = skimage.exposure.rescale_intensity(im)\n",
    "        \"\"\"newim = numpy.zeros(im.shape)\n",
    "        for ch in range(im.shape[-1]):\n",
    "            newim[:,:,ch]=skimage.exposure.rescale_intensity(im[:,:,ch])\n",
    "        im = newim\"\"\"\n",
    "    return skimage.transform.resize_local_mean(im,[inputdim[1],inputdim[2],inputdim[3]])\n",
    "\n",
    "\n",
    "def prepare_for_classification(image_list,loaded_model,reorder,rescale):\n",
    "    imlist = []\n",
    "    dims = loaded_model.input_shape\n",
    "    for im in image_list: #resize each one, not after, because weird behavior happens\n",
    "        imlist.append(load_image(im,reorder,rescale,dims))\n",
    "    return numpy.array(imlist)\n",
    "\n",
    "def return_classification(image_list,loaded_model,rescale=True,list_of_class_names=False, class_labels=False):\n",
    "    reorder = loaded_model.input_shape[3] not in [1,3]\n",
    "    prediction_array = prepare_for_classification(image_list,loaded_model,reorder,rescale)\n",
    "    probabilities = loaded_model.predict(prediction_array)\n",
    "    classes = probabilities.argmax(axis=-1)\n",
    "    if list_of_class_names != False:\n",
    "        class_name_dict ={class_labels.index(x):x for x in class_labels}\n",
    "        classes = list(numpy.vectorize(class_name_dict.get)(classes))\n",
    "    return classes"
   ]
  },
  {
   "cell_type": "code",
   "execution_count": null,
   "id": "d8dc48f0-916f-40ed-8084-895c19274d01",
   "metadata": {},
   "outputs": [],
   "source": [
    "files = glob.glob(files_to_run,recursive=True)\n",
    "files.sort()\n",
    "classes = return_classification(files,piximi_model,rescale=should_rescale,list_of_class_names=return_named_list,class_labels=class_labels)\n",
    "if return_named_list:\n",
    "    for x in class_labels:\n",
    "        print(x,classes.count(x))\n",
    "else:\n",
    "    print(numpy.unique(classes,return_counts=True))\n",
    "for x in range(len(files)):\n",
    "    print(f\"File {files[x]} predicted as {classes[x]}\")"
   ]
  },
  {
   "cell_type": "code",
   "execution_count": null,
   "id": "419f5811-b721-4815-8646-7308e4b53649",
   "metadata": {},
   "outputs": [],
   "source": []
  }
 ],
 "metadata": {
  "kernelspec": {
   "display_name": "piximi",
   "language": "python",
   "name": "piximi"
  },
  "language_info": {
   "codemirror_mode": {
    "name": "ipython",
    "version": 3
   },
   "file_extension": ".py",
   "mimetype": "text/x-python",
   "name": "python",
   "nbconvert_exporter": "python",
   "pygments_lexer": "ipython3",
   "version": "3.10.14"
  }
 },
 "nbformat": 4,
 "nbformat_minor": 5
}
